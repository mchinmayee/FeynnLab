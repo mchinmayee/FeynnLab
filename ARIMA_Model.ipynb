{
 "cells": [
  {
   "cell_type": "code",
   "execution_count": 1,
   "id": "acff8420",
   "metadata": {},
   "outputs": [],
   "source": [
    "\n",
    "import pandas as pd\n",
    "import numpy as np\n",
    "%matplotlib inline\n",
    "from statsmodels.tsa.seasonal import seasonal_decompose\n",
    "import matplotlib.pylab as plt\n",
    "from statsmodels.graphics.tsaplots import plot_acf,plot_pacf # for determining (p,q) orders\n",
    "from pmdarima import auto_arima\n",
    "from statsmodels.tsa.stattools import adfuller\n"
   ]
  },
  {
   "cell_type": "code",
   "execution_count": 2,
   "id": "c595a84a",
   "metadata": {},
   "outputs": [],
   "source": [
    "df = pd.read_csv(r'C:\\Users\\Auction_price.csv',index_col='year', parse_dates=True)\n",
    "df.index.freq='MS'"
   ]
  },
  {
   "cell_type": "code",
   "execution_count": 3,
   "id": "836d7d58",
   "metadata": {},
   "outputs": [
    {
     "data": {
      "text/html": [
       "<div>\n",
       "<style scoped>\n",
       "    .dataframe tbody tr th:only-of-type {\n",
       "        vertical-align: middle;\n",
       "    }\n",
       "\n",
       "    .dataframe tbody tr th {\n",
       "        vertical-align: top;\n",
       "    }\n",
       "\n",
       "    .dataframe thead th {\n",
       "        text-align: right;\n",
       "    }\n",
       "</style>\n",
       "<table border=\"1\" class=\"dataframe\">\n",
       "  <thead>\n",
       "    <tr style=\"text-align: right;\">\n",
       "      <th></th>\n",
       "      <th>price</th>\n",
       "    </tr>\n",
       "    <tr>\n",
       "      <th>year</th>\n",
       "      <th></th>\n",
       "    </tr>\n",
       "  </thead>\n",
       "  <tbody>\n",
       "    <tr>\n",
       "      <th>2018-04-01</th>\n",
       "      <td>104.69</td>\n",
       "    </tr>\n",
       "    <tr>\n",
       "      <th>2018-05-01</th>\n",
       "      <td>94.81</td>\n",
       "    </tr>\n",
       "    <tr>\n",
       "      <th>2018-06-01</th>\n",
       "      <td>92.14</td>\n",
       "    </tr>\n",
       "    <tr>\n",
       "      <th>2018-07-01</th>\n",
       "      <td>93.66</td>\n",
       "    </tr>\n",
       "    <tr>\n",
       "      <th>2018-08-01</th>\n",
       "      <td>96.34</td>\n",
       "    </tr>\n",
       "  </tbody>\n",
       "</table>\n",
       "</div>"
      ],
      "text/plain": [
       "             price\n",
       "year              \n",
       "2018-04-01  104.69\n",
       "2018-05-01   94.81\n",
       "2018-06-01   92.14\n",
       "2018-07-01   93.66\n",
       "2018-08-01   96.34"
      ]
     },
     "execution_count": 3,
     "metadata": {},
     "output_type": "execute_result"
    }
   ],
   "source": [
    "df.head()\n"
   ]
  },
  {
   "cell_type": "code",
   "execution_count": 4,
   "id": "553bb9aa",
   "metadata": {},
   "outputs": [],
   "source": [
    "import warnings\n",
    "warnings.filterwarnings(\"ignore\")"
   ]
  },
  {
   "cell_type": "code",
   "execution_count": 5,
   "id": "f61b9f99",
   "metadata": {},
   "outputs": [
    {
     "data": {
      "image/png": "[encoded data removed]",
      "text/plain": [
       "<Figure size 432x288 with 4 Axes>"
      ]
     },
     "metadata": {
      "needs_background": "light"
     },
     "output_type": "display_data"
    }
   ],
   "source": [
    "result = seasonal_decompose(df['price'], model='additive').plot()  # model='mul' also works"
   ]
  },
  {
   "cell_type": "code",
   "execution_count": 6,
   "id": "cf069145",
   "metadata": {},
   "outputs": [
    {
     "data": {
      "text/html": [
       "<table class=\"simpletable\">\n",
       "<caption>SARIMAX Results</caption>\n",
       "<tr>\n",
       "  <th>Dep. Variable:</th>           <td>y</td>        <th>  No. Observations:  </th>    <td>36</td>   \n",
       "</tr>\n",
       "<tr>\n",
       "  <th>Model:</th>           <td>SARIMAX(0, 1, 0)</td> <th>  Log Likelihood     </th> <td>-139.142</td>\n",
       "</tr>\n",
       "<tr>\n",
       "  <th>Date:</th>            <td>Fri, 08 Oct 2021</td> <th>  AIC                </th>  <td>280.284</td>\n",
       "</tr>\n",
       "<tr>\n",
       "  <th>Time:</th>                <td>11:19:36</td>     <th>  BIC                </th>  <td>281.839</td>\n",
       "</tr>\n",
       "<tr>\n",
       "  <th>Sample:</th>                  <td>0</td>        <th>  HQIC               </th>  <td>280.821</td>\n",
       "</tr>\n",
       "<tr>\n",
       "  <th></th>                       <td> - 36</td>      <th>                     </th>     <td> </td>   \n",
       "</tr>\n",
       "<tr>\n",
       "  <th>Covariance Type:</th>        <td>opg</td>       <th>                     </th>     <td> </td>   \n",
       "</tr>\n",
       "</table>\n",
       "<table class=\"simpletable\">\n",
       "<tr>\n",
       "     <td></td>       <th>coef</th>     <th>std err</th>      <th>z</th>      <th>P>|z|</th>  <th>[0.025</th>    <th>0.975]</th>  \n",
       "</tr>\n",
       "<tr>\n",
       "  <th>sigma2</th> <td>  166.1839</td> <td>   28.996</td> <td>    5.731</td> <td> 0.000</td> <td>  109.352</td> <td>  223.015</td>\n",
       "</tr>\n",
       "</table>\n",
       "<table class=\"simpletable\">\n",
       "<tr>\n",
       "  <th>Ljung-Box (L1) (Q):</th>     <td>0.55</td>  <th>  Jarque-Bera (JB):  </th> <td>5.73</td> \n",
       "</tr>\n",
       "<tr>\n",
       "  <th>Prob(Q):</th>                <td>0.46</td>  <th>  Prob(JB):          </th> <td>0.06</td> \n",
       "</tr>\n",
       "<tr>\n",
       "  <th>Heteroskedasticity (H):</th> <td>22.43</td> <th>  Skew:              </th> <td>-0.31</td>\n",
       "</tr>\n",
       "<tr>\n",
       "  <th>Prob(H) (two-sided):</th>    <td>0.00</td>  <th>  Kurtosis:          </th> <td>4.88</td> \n",
       "</tr>\n",
       "</table><br/><br/>Warnings:<br/>[1] Covariance matrix calculated using the outer product of gradients (complex-step)."
      ],
      "text/plain": [
       "<class 'statsmodels.iolib.summary.Summary'>\n",
       "\"\"\"\n",
       "                               SARIMAX Results                                \n",
       "==============================================================================\n",
       "Dep. Variable:                      y   No. Observations:                   36\n",
       "Model:               SARIMAX(0, 1, 0)   Log Likelihood                -139.142\n",
       "Date:                Fri, 08 Oct 2021   AIC                            280.284\n",
       "Time:                        11:19:36   BIC                            281.839\n",
       "Sample:                             0   HQIC                           280.821\n",
       "                                 - 36                                         \n",
       "Covariance Type:                  opg                                         \n",
       "==============================================================================\n",
       "                 coef    std err          z      P>|z|      [0.025      0.975]\n",
       "------------------------------------------------------------------------------\n",
       "sigma2       166.1839     28.996      5.731      0.000     109.352     223.015\n",
       "===================================================================================\n",
       "Ljung-Box (L1) (Q):                   0.55   Jarque-Bera (JB):                 5.73\n",
       "Prob(Q):                              0.46   Prob(JB):                         0.06\n",
       "Heteroskedasticity (H):              22.43   Skew:                            -0.31\n",
       "Prob(H) (two-sided):                  0.00   Kurtosis:                         4.88\n",
       "===================================================================================\n",
       "\n",
       "Warnings:\n",
       "[1] Covariance matrix calculated using the outer product of gradients (complex-step).\n",
       "\"\"\""
      ]
     },
     "execution_count": 6,
     "metadata": {},
     "output_type": "execute_result"
    }
   ],
   "source": [
    "#Use pmdarima.auto_arima to determine ARIMA Orders\n",
    "auto_arima(df['price'],error_action='ignore',seasonal = False).summary()\n"
   ]
  },
  {
   "cell_type": "code",
   "execution_count": 7,
   "id": "9bf22916",
   "metadata": {},
   "outputs": [],
   "source": [
    "#Get the train and test data\n",
    "train_data = df.iloc[:25]\n",
    "test_data = df.iloc[24:]"
   ]
  },
  {
   "cell_type": "code",
   "execution_count": 8,
   "id": "9d0b6224",
   "metadata": {},
   "outputs": [
    {
     "name": "stdout",
     "output_type": "stream",
     "text": [
      "Augmented Dickey-Fuller Test: \n",
      "ADF test statistic      -2.340098\n",
      "p-value                  0.159361\n",
      "# lags used              7.000000\n",
      "# observations          28.000000\n",
      "critical value (1%)     -3.688926\n",
      "critical value (5%)     -2.971989\n",
      "critical value (10%)    -2.625296\n",
      "Weak evidence against the null hypothesis\n",
      "Fail to reject the null hypothesis\n",
      "Data has a unit root and is non-stationary\n"
     ]
    }
   ],
   "source": [
    "def adf_test(series,title=''):\n",
    "    \"\"\"\n",
    "    Pass in a time series and an optional title, returns an ADF report\n",
    "    \"\"\"\n",
    "    print(f'Augmented Dickey-Fuller Test: {title}')\n",
    "    result = adfuller(series.dropna(),autolag='AIC') # .dropna() handles differenced data\n",
    "    \n",
    "    labels = ['ADF test statistic','p-value','# lags used','# observations']\n",
    "    out = pd.Series(result[0:4],index=labels)\n",
    "\n",
    "    for key,val in result[4].items():\n",
    "        out[f'critical value ({key})']=val\n",
    "        \n",
    "    print(out.to_string())          # .to_string() removes the line \"dtype: float64\"\n",
    "    \n",
    "    if result[1] <= 0.05:\n",
    "        print(\"Strong evidence against the null hypothesis\")\n",
    "        print(\"Reject the null hypothesis\")\n",
    "        print(\"Data has no unit root and is stationary\")\n",
    "    else:\n",
    "        print(\"Weak evidence against the null hypothesis\")\n",
    "        print(\"Fail to reject the null hypothesis\")\n",
    "        print(\"Data has a unit root and is non-stationary\")\n",
    "\n",
    "adf_test(df['price'])"
   ]
  },
  {
   "cell_type": "code",
   "execution_count": 12,
   "id": "2d5b38ad",
   "metadata": {},
   "outputs": [],
   "source": [
    "from statsmodels.tsa.statespace.tools import diff\n",
    "df['diff_1'] = diff(df['price'], k_diff=1)\n"
   ]
  },
  {
   "cell_type": "code",
   "execution_count": 14,
   "id": "d0710d64",
   "metadata": {},
   "outputs": [
    {
     "name": "stdout",
     "output_type": "stream",
     "text": [
      "Augmented Dickey-Fuller Test: \n",
      "ADF test statistic      -2.153066\n",
      "p-value                  0.223718\n",
      "# lags used              7.000000\n",
      "# observations          27.000000\n",
      "critical value (1%)     -3.699608\n",
      "critical value (5%)     -2.976430\n",
      "critical value (10%)    -2.627601\n",
      "Weak evidence against the null hypothesis\n",
      "Fail to reject the null hypothesis\n",
      "Data has a unit root and is non-stationary\n"
     ]
    }
   ],
   "source": [
    "adf_test(df['diff_1'] )\n"
   ]
  },
  {
   "cell_type": "markdown",
   "id": "72619a00",
   "metadata": {},
   "source": [
    "Model is Non-stationary. Find the value of p,q given d=1 the order of differentiation"
   ]
  },
  {
   "cell_type": "code",
   "execution_count": 15,
   "id": "65bcfff2",
   "metadata": {},
   "outputs": [],
   "source": [
    "from statsmodels.graphics.tsaplots import plot_acf,plot_pacf"
   ]
  },
  {
   "cell_type": "code",
   "execution_count": 23,
   "id": "6156e4e7",
   "metadata": {},
   "outputs": [
    {
     "data": {
      "image/png": "[encoded data removed]",
      "text/plain": [
       "<Figure size 432x288 with 1 Axes>"
      ]
     },
     "metadata": {
      "needs_background": "light"
     },
     "output_type": "display_data"
    }
   ],
   "source": [
    "plot_acf(df['price'], lags=10);   # Autocorrelation gives the value of q=3 (MA)\n"
   ]
  },
  {
   "cell_type": "code",
   "execution_count": 24,
   "id": "60b8c6a2",
   "metadata": {},
   "outputs": [
    {
     "data": {
      "image/png": "[encoded data removed]",
      "text/plain": [
       "<Figure size 432x288 with 1 Axes>"
      ]
     },
     "metadata": {
      "needs_background": "light"
     },
     "output_type": "display_data"
    }
   ],
   "source": [
    "plot_pacf(df['price'], lags=10);  #p=2\n"
   ]
  },
  {
   "cell_type": "code",
   "execution_count": 25,
   "id": "3cf048cf",
   "metadata": {},
   "outputs": [
    {
     "name": "stdout",
     "output_type": "stream",
     "text": [
      "Performing stepwise search to minimize aic\n",
      " ARIMA(1,1,1)(1,0,1)[12] intercept   : AIC=288.021, Time=0.60 sec\n",
      " ARIMA(0,1,0)(0,0,0)[12] intercept   : AIC=282.054, Time=0.02 sec\n",
      " ARIMA(1,1,0)(1,0,0)[12] intercept   : AIC=285.072, Time=0.08 sec\n",
      " ARIMA(0,1,1)(0,0,1)[12] intercept   : AIC=285.346, Time=0.05 sec\n",
      " ARIMA(0,1,0)(0,0,0)[12]             : AIC=280.284, Time=0.00 sec\n",
      " ARIMA(0,1,0)(1,0,0)[12] intercept   : AIC=283.686, Time=0.07 sec\n",
      " ARIMA(0,1,0)(0,0,1)[12] intercept   : AIC=283.802, Time=0.05 sec\n",
      " ARIMA(0,1,0)(1,0,1)[12] intercept   : AIC=inf, Time=0.21 sec\n",
      " ARIMA(1,1,0)(0,0,0)[12] intercept   : AIC=283.543, Time=0.02 sec\n",
      " ARIMA(0,1,1)(0,0,0)[12] intercept   : AIC=283.664, Time=0.03 sec\n",
      " ARIMA(1,1,1)(0,0,0)[12] intercept   : AIC=284.795, Time=0.07 sec\n",
      "\n",
      "Best model:  ARIMA(0,1,0)(0,0,0)[12]          \n",
      "Total fit time: 1.390 seconds\n"
     ]
    }
   ],
   "source": [
    "stepwise_fit = auto_arima(df['price'], start_p=1, start_q=1,\n",
    "                          max_p=6, max_q=3, m=12,\n",
    "                          seasonal=True,\n",
    "                          trace=True)"
   ]
  },
  {
   "cell_type": "code",
   "execution_count": 28,
   "id": "1815223c",
   "metadata": {},
   "outputs": [],
   "source": [
    "from statsmodels.tsa.arima_model import ARIMA,ARIMAResults"
   ]
  },
  {
   "cell_type": "code",
   "execution_count": 29,
   "id": "d245a9df",
   "metadata": {},
   "outputs": [
    {
     "data": {
      "text/html": [
       "<table class=\"simpletable\">\n",
       "<caption>ARIMA Model Results</caption>\n",
       "<tr>\n",
       "  <th>Dep. Variable:</th>     <td>D2.price</td>     <th>  No. Observations:  </th>   <td>23</td>   \n",
       "</tr>\n",
       "<tr>\n",
       "  <th>Model:</th>          <td>ARIMA(1, 2, 1)</td>  <th>  Log Likelihood     </th> <td>-73.506</td>\n",
       "</tr>\n",
       "<tr>\n",
       "  <th>Method:</th>             <td>css-mle</td>     <th>  S.D. of innovations</th>  <td>5.636</td> \n",
       "</tr>\n",
       "<tr>\n",
       "  <th>Date:</th>          <td>Fri, 08 Oct 2021</td> <th>  AIC                </th> <td>155.013</td>\n",
       "</tr>\n",
       "<tr>\n",
       "  <th>Time:</th>              <td>11:38:21</td>     <th>  BIC                </th> <td>159.554</td>\n",
       "</tr>\n",
       "<tr>\n",
       "  <th>Sample:</th>           <td>06-01-2018</td>    <th>  HQIC               </th> <td>156.155</td>\n",
       "</tr>\n",
       "<tr>\n",
       "  <th></th>                 <td>- 04-01-2020</td>   <th>                     </th>    <td> </td>   \n",
       "</tr>\n",
       "</table>\n",
       "<table class=\"simpletable\">\n",
       "<tr>\n",
       "         <td></td>           <th>coef</th>     <th>std err</th>      <th>z</th>      <th>P>|z|</th>  <th>[0.025</th>    <th>0.975]</th>  \n",
       "</tr>\n",
       "<tr>\n",
       "  <th>const</th>          <td>    0.3789</td> <td>    0.366</td> <td>    1.035</td> <td> 0.301</td> <td>   -0.339</td> <td>    1.097</td>\n",
       "</tr>\n",
       "<tr>\n",
       "  <th>ar.L1.D2.price</th> <td>    0.4813</td> <td>    0.306</td> <td>    1.575</td> <td> 0.115</td> <td>   -0.118</td> <td>    1.080</td>\n",
       "</tr>\n",
       "<tr>\n",
       "  <th>ma.L1.D2.price</th> <td>   -1.0000</td> <td>    0.142</td> <td>   -7.047</td> <td> 0.000</td> <td>   -1.278</td> <td>   -0.722</td>\n",
       "</tr>\n",
       "</table>\n",
       "<table class=\"simpletable\">\n",
       "<caption>Roots</caption>\n",
       "<tr>\n",
       "    <td></td>   <th>            Real</th>  <th>         Imaginary</th> <th>         Modulus</th>  <th>        Frequency</th>\n",
       "</tr>\n",
       "<tr>\n",
       "  <th>AR.1</th> <td>           2.0775</td> <td>          +0.0000j</td> <td>           2.0775</td> <td>           0.0000</td>\n",
       "</tr>\n",
       "<tr>\n",
       "  <th>MA.1</th> <td>           1.0000</td> <td>          +0.0000j</td> <td>           1.0000</td> <td>           0.0000</td>\n",
       "</tr>\n",
       "</table>"
      ],
      "text/plain": [
       "<class 'statsmodels.iolib.summary.Summary'>\n",
       "\"\"\"\n",
       "                             ARIMA Model Results                              \n",
       "==============================================================================\n",
       "Dep. Variable:               D2.price   No. Observations:                   23\n",
       "Model:                 ARIMA(1, 2, 1)   Log Likelihood                 -73.506\n",
       "Method:                       css-mle   S.D. of innovations              5.636\n",
       "Date:                Fri, 08 Oct 2021   AIC                            155.013\n",
       "Time:                        11:38:21   BIC                            159.554\n",
       "Sample:                    06-01-2018   HQIC                           156.155\n",
       "                         - 04-01-2020                                         \n",
       "==================================================================================\n",
       "                     coef    std err          z      P>|z|      [0.025      0.975]\n",
       "----------------------------------------------------------------------------------\n",
       "const              0.3789      0.366      1.035      0.301      -0.339       1.097\n",
       "ar.L1.D2.price     0.4813      0.306      1.575      0.115      -0.118       1.080\n",
       "ma.L1.D2.price    -1.0000      0.142     -7.047      0.000      -1.278      -0.722\n",
       "                                    Roots                                    \n",
       "=============================================================================\n",
       "                  Real          Imaginary           Modulus         Frequency\n",
       "-----------------------------------------------------------------------------\n",
       "AR.1            2.0775           +0.0000j            2.0775            0.0000\n",
       "MA.1            1.0000           +0.0000j            1.0000            0.0000\n",
       "-----------------------------------------------------------------------------\n",
       "\"\"\""
      ]
     },
     "execution_count": 29,
     "metadata": {},
     "output_type": "execute_result"
    }
   ],
   "source": [
    "model = ARIMA(train_data['price'],order=(1,2,1))\n",
    "results = model.fit()\n",
    "results.summary()\n"
   ]
  },
  {
   "cell_type": "code",
   "execution_count": 30,
   "id": "c45e2382",
   "metadata": {},
   "outputs": [],
   "source": [
    "#Make Prediction\n",
    "start=len(train_data)\n",
    "end=len(train_data)+len(test_data)-1"
   ]
  },
  {
   "cell_type": "code",
   "execution_count": 31,
   "id": "c1bd6999",
   "metadata": {},
   "outputs": [],
   "source": [
    "predictions = results.predict(start=start, end=end, dynamic=False, typ='levels').rename('ARIMA(1,2,1) Predictions')\n"
   ]
  },
  {
   "cell_type": "code",
   "execution_count": 32,
   "id": "3e8de9fb",
   "metadata": {},
   "outputs": [
    {
     "data": {
      "text/plain": [
       "2020-05-01    123.021924\n",
       "2020-06-01    130.981593\n",
       "2020-07-01    137.490498\n",
       "2020-08-01    143.497603\n",
       "2020-09-01    149.459683\n",
       "2020-10-01    155.596604\n",
       "2020-11-01    162.014197\n",
       "2020-12-01    168.763402\n",
       "2021-01-01    175.868740\n",
       "2021-02-01    183.342012\n",
       "2021-03-01    191.188900\n",
       "2021-04-01    199.412139\n",
       "Freq: MS, Name: ARIMA(1,2,1) Predictions, dtype: float64"
      ]
     },
     "execution_count": 32,
     "metadata": {},
     "output_type": "execute_result"
    }
   ],
   "source": [
    "predictions"
   ]
  },
  {
   "cell_type": "code",
   "execution_count": 33,
   "id": "370ef56f",
   "metadata": {},
   "outputs": [
    {
     "data": {
      "text/plain": [
       "<AxesSubplot:xlabel='year'>"
      ]
     },
     "execution_count": 33,
     "metadata": {},
     "output_type": "execute_result"
    },
    {
     "data": {
      "image/png": "[encoded data removed]",
      "text/plain": [
       "<Figure size 864x576 with 1 Axes>"
      ]
     },
     "metadata": {
      "needs_background": "light"
     },
     "output_type": "display_data"
    }
   ],
   "source": [
    "test_data['price'].plot(legend=True, figsize=(12,8))\n",
    "predictions.plot(legend=True)"
   ]
  },
  {
   "cell_type": "code",
   "execution_count": 36,
   "id": "8d049329",
   "metadata": {},
   "outputs": [
    {
     "name": "stdout",
     "output_type": "stream",
     "text": [
      "992.0997718275436\n"
     ]
    }
   ],
   "source": [
    "#check for error terms\n",
    "from sklearn.metrics import mean_squared_error\n",
    "\n",
    "error1 = mean_squared_error(test_data['price'], predictions)\n",
    "print(error1)"
   ]
  },
  {
   "cell_type": "code",
   "execution_count": 37,
   "id": "b8924acf",
   "metadata": {},
   "outputs": [
    {
     "name": "stdout",
     "output_type": "stream",
     "text": [
      "ARIMA(1,1,1) rmse Error: 31.49761534\n"
     ]
    }
   ],
   "source": [
    "from statsmodels.tools.eval_measures import rmse\n",
    "\n",
    "error2 = rmse(test_data['price'], predictions)\n",
    "print(f'ARIMA(1,1,1) rmse Error: {error2:11.10}')"
   ]
  },
  {
   "cell_type": "code",
   "execution_count": 39,
   "id": "d009d5a3",
   "metadata": {},
   "outputs": [
    {
     "name": "stdout",
     "output_type": "stream",
     "text": [
      "140.8791666666667\n",
      "160.05310804731744\n"
     ]
    }
   ],
   "source": [
    "print(test_data['price'].mean())\n",
    "print(predictions.mean())"
   ]
  },
  {
   "cell_type": "code",
   "execution_count": 41,
   "id": "7647a753",
   "metadata": {},
   "outputs": [],
   "source": [
    "#forecast to future values\n",
    "model = ARIMA(df['price'], order=(1,2,1))\n",
    "results = model.fit()\n"
   ]
  },
  {
   "cell_type": "code",
   "execution_count": 43,
   "id": "515581c6",
   "metadata": {},
   "outputs": [
    {
     "name": "stdout",
     "output_type": "stream",
     "text": [
      "2021-04-01    144.928881\n",
      "2021-05-01    147.890378\n",
      "2021-06-01    151.028482\n",
      "2021-07-01    154.249354\n",
      "2021-08-01    157.562322\n",
      "2021-09-01    160.966459\n",
      "2021-10-01    164.461856\n",
      "2021-11-01    168.048506\n",
      "2021-12-01    171.726408\n",
      "2022-01-01    175.495563\n",
      "2022-02-01    179.355970\n",
      "2022-03-01    183.307630\n",
      "Freq: MS, Name: ARIMA(1,2,1) Forecast, dtype: float64\n"
     ]
    }
   ],
   "source": [
    "#period of 11 months\n",
    "fcast = results.predict(len(df),len(df)+11,typ='levels').rename('ARIMA(1,2,1) Forecast')\n",
    "print(fcast)"
   ]
  },
  {
   "cell_type": "code",
   "execution_count": 45,
   "id": "f0996021",
   "metadata": {},
   "outputs": [
    {
     "data": {
      "text/plain": [
       "<AxesSubplot:xlabel='year'>"
      ]
     },
     "execution_count": 45,
     "metadata": {},
     "output_type": "execute_result"
    },
    {
     "data": {
      "image/png": "[encoded data removed]",
      "text/plain": [
       "<Figure size 864x576 with 1 Axes>"
      ]
     },
     "metadata": {
      "needs_background": "light"
     },
     "output_type": "display_data"
    }
   ],
   "source": [
    "df['price'].plot(legend=True, figsize=(12,8))\n",
    "fcast.plot(legend=True)"
   ]
  },
  {
   "cell_type": "code",
   "execution_count": null,
   "id": "1ad35b69",
   "metadata": {},
   "outputs": [],
   "source": []
  }
 ],
 "metadata": {
  "kernelspec": {
   "display_name": "Python 3",
   "language": "python",
   "name": "python3"
  },
  "language_info": {
   "codemirror_mode": {
    "name": "ipython",
    "version": 3
   },
   "file_extension": ".py",
   "mimetype": "text/x-python",
   "name": "python",
   "nbconvert_exporter": "python",
   "pygments_lexer": "ipython3",
   "version": "3.8.8"
  }
 },
 "nbformat": 4,
 "nbformat_minor": 5
}
